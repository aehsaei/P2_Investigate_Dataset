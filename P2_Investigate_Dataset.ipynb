{
 "cells": [
  {
   "cell_type": "markdown",
   "metadata": {
    "collapsed": true,
    "slideshow": {
     "slide_type": "-"
    }
   },
   "source": [
    "<font size=\"6\" face=\"arial\"><b> Project 2: <br><br> Investigate a Dataset </b></font>"
   ]
  },
  {
   "cell_type": "markdown",
   "metadata": {},
   "source": [
    "<font face=\"arial\"> I will analyze data gathered on passengers aboard the Titanic and investigate the following questions involving the passenger survival rate<br>\n",
    "  1. Among the passengers, was either gender more likely to survive the Titanic event?<br>\n",
    "  2. How did the passenger class affect the survival rate?</font>"
   ]
  },
  {
   "cell_type": "markdown",
   "metadata": {},
   "source": [
    "<font size=\"4\" color=\"Blue\" face=\"arial\"><b> Data Wrangling </b></font>"
   ]
  },
  {
   "cell_type": "markdown",
   "metadata": {},
   "source": [
    "<font face=\"arial\">I will begin by loading the titanic data into a local variable and performing cleanup on missing or inconsistent values.<br>\n",
    "<b>Import the Data</b>: I'll use pandas 'read_csv' built in method to import the csv into a dataframe.<br></font>"
   ]
  },
  {
   "cell_type": "code",
   "execution_count": 40,
   "metadata": {
    "collapsed": false
   },
   "outputs": [],
   "source": [
    "import numpy             as np\n",
    "import matplotlib.pyplot as plt\n",
    "import seaborn           as sns\n",
    "import pandas            as pd\n",
    "import pprint            as pp\n",
    "from   matplotlib    import cm\n",
    "%matplotlib inline\n",
    "\n",
    "# Read in the data from titanic.csv and store the results in a data frame\n",
    "titanic_df = pd.read_csv( 'titanic_data.csv' )"
   ]
  },
  {
   "cell_type": "markdown",
   "metadata": {},
   "source": [
    "<font face=\"arial\"><b>Clean the Data</b>: I have noticed that there are missing values for some of the ages of passengers, as well as cabin assignments. I'll replace these missing values with consistent values.</font>"
   ]
  },
  {
   "cell_type": "code",
   "execution_count": 41,
   "metadata": {
    "collapsed": false
   },
   "outputs": [
    {
     "name": "stdout",
     "output_type": "stream",
     "text": [
      "PassengerId      0\n",
      "Survived         0\n",
      "Pclass           0\n",
      "Name             0\n",
      "Sex              0\n",
      "Age            177\n",
      "SibSp            0\n",
      "Parch            0\n",
      "Ticket           0\n",
      "Fare             0\n",
      "Cabin          687\n",
      "Embarked         2\n",
      "dtype: int64\n"
     ]
    }
   ],
   "source": [
    "# Find the number of missing values in the data\n",
    "print titanic_df.isnull().sum()\n",
    "\n",
    "# Clean the missing Age data by replacing 'NaN' items with a zero value \n",
    "titanic_df['Age'] = titanic_df['Age'].fillna( value = 0 )\n",
    "\n",
    "# Clean the missing Cabin data by replacing 'NaN' items with a '-'\n",
    "titanic_df['Cabin'] = titanic_df['Cabin'].fillna( value = '-' )\n",
    "\n",
    "# Clean the missing Embarked data by replacing 'NaN' items with a '-'\n",
    "titanic_df['Embarked'] = titanic_df['Embarked'].fillna( value = '-' )\n",
    "\n",
    "# Round the 'Fare' amounts to 2 decimal places\n",
    "titanic_df = titanic_df.round({'Fare': 2})"
   ]
  },
  {
   "cell_type": "markdown",
   "metadata": {},
   "source": [
    "<font face=\"arial\">The data was relatively clean, there were mostly missing cabin assignments and age values, and a couple of missing embarked locations. I have replaced these items with non-null values for consistency. I will be focused on the 'Survived' data and the 'Pclass' data. Both of these columns do not have missing data, so I can proceed to the exploration phase of my analysis.</font>"
   ]
  },
  {
   "cell_type": "markdown",
   "metadata": {},
   "source": [
    "<font size=\"4\" color=\"Blue\" face=\"arial\"><b> Exploration </b></font>"
   ]
  },
  {
   "cell_type": "markdown",
   "metadata": {},
   "source": [
    "<font face=\"arial\"> Next I will start to look at the survival data and calculate some basic statistics on the 'Survived' column using pandas built-in describe() function.</font>"
   ]
  },
  {
   "cell_type": "code",
   "execution_count": 42,
   "metadata": {
    "collapsed": false
   },
   "outputs": [
    {
     "name": "stdout",
     "output_type": "stream",
     "text": [
      "count    891.000000\n",
      "mean       0.383838\n",
      "std        0.486592\n",
      "min        0.000000\n",
      "25%        0.000000\n",
      "50%        0.000000\n",
      "75%        1.000000\n",
      "max        1.000000\n",
      "Name: Survived, dtype: float64\n"
     ]
    }
   ],
   "source": [
    "# Basic Statistics on the 'Survived' column of the dataframe\n",
    "print titanic_df['Survived'].describe()"
   ]
  },
  {
   "cell_type": "markdown",
   "metadata": {},
   "source": [
    "<font face=\"arial\"> The 'Survived' column in this dataset contains values of '0' for passengers that did not survive and '1' for passengers that did survive. The mean of this column is calculated to be '0.38' and shows that most passengers did not survive the event. Because the survived values are discrete and limited to '0' and '1' values, the mean is equal to the survival rate for all passengers. In this case, 38% of the passengers in this dataset survived the event.</font>"
   ]
  },
  {
   "cell_type": "markdown",
   "metadata": {},
   "source": [
    "<font face=\"arial\"> I'll group the 'Survived' data by gender and calculate some basic statistics</font>"
   ]
  },
  {
   "cell_type": "code",
   "execution_count": 43,
   "metadata": {
    "collapsed": false,
    "scrolled": true
   },
   "outputs": [
    {
     "name": "stdout",
     "output_type": "stream",
     "text": [
      "Sex          \n",
      "female  count    314.000000\n",
      "        mean       0.742038\n",
      "        std        0.438211\n",
      "        min        0.000000\n",
      "        25%        0.000000\n",
      "        50%        1.000000\n",
      "        75%        1.000000\n",
      "        max        1.000000\n",
      "male    count    577.000000\n",
      "        mean       0.188908\n",
      "        std        0.391775\n",
      "        min        0.000000\n",
      "        25%        0.000000\n",
      "        50%        0.000000\n",
      "        75%        0.000000\n",
      "        max        1.000000\n",
      "dtype: float64\n"
     ]
    }
   ],
   "source": [
    "# Basic Statistics on the 'Survived' column, grouped by gender\n",
    "print titanic_df.groupby('Sex')['Survived'].describe()"
   ]
  },
  {
   "cell_type": "markdown",
   "metadata": {},
   "source": [
    "<font face=\"arial\"> After grouping based on gender, I have calculated the same basic statistics on each group independently. It is interesting that the mean for men and women are much different. Women had a 74% survival rate, whereas men only had a 19% survival rate. </font>"
   ]
  },
  {
   "cell_type": "markdown",
   "metadata": {},
   "source": [
    "<font face=\"arial\"> I'll group the 'Survived' data by Passenger Class and calculate some basic statistics</font>"
   ]
  },
  {
   "cell_type": "code",
   "execution_count": 44,
   "metadata": {
    "collapsed": false
   },
   "outputs": [
    {
     "name": "stdout",
     "output_type": "stream",
     "text": [
      "Pclass       \n",
      "1       count    216.000000\n",
      "        mean       0.629630\n",
      "        std        0.484026\n",
      "        min        0.000000\n",
      "        25%        0.000000\n",
      "        50%        1.000000\n",
      "        75%        1.000000\n",
      "        max        1.000000\n",
      "2       count    184.000000\n",
      "        mean       0.472826\n",
      "        std        0.500623\n",
      "        min        0.000000\n",
      "        25%        0.000000\n",
      "        50%        0.000000\n",
      "        75%        1.000000\n",
      "        max        1.000000\n",
      "3       count    491.000000\n",
      "        mean       0.242363\n",
      "        std        0.428949\n",
      "        min        0.000000\n",
      "        25%        0.000000\n",
      "        50%        0.000000\n",
      "        75%        0.000000\n",
      "        max        1.000000\n",
      "dtype: float64\n"
     ]
    }
   ],
   "source": [
    "# Basic Statistics on the 'Survived' column, grouped by Passenger Class\n",
    "print titanic_df.groupby('Pclass')['Survived'].describe()"
   ]
  },
  {
   "cell_type": "markdown",
   "metadata": {},
   "source": [
    "<font face=\"arial\"> The means of the survivor data decrease as you go down in the passenger classes. The first class passengers had a 63% survival rate, whereas the third class passengers only had a 24% survival rate. </font>"
   ]
  },
  {
   "cell_type": "markdown",
   "metadata": {},
   "source": [
    "<font size=\"4\" color=\"Blue\" face=\"arial\"><b> Plots </b></font>"
   ]
  },
  {
   "cell_type": "markdown",
   "metadata": {},
   "source": [
    "<font face=\"arial\"> Next I'll look at this data in the form of histogram plots using the matplotlib plotting library.</font>"
   ]
  },
  {
   "cell_type": "code",
   "execution_count": 91,
   "metadata": {
    "collapsed": false
   },
   "outputs": [
    {
     "data": {
      "text/plain": [
       "[<matplotlib.text.Text at 0x11e9ee290>,\n",
       " <matplotlib.text.Text at 0x11e8ad690>,\n",
       " <matplotlib.text.Text at 0x11eaf2ed0>]"
      ]
     },
     "execution_count": 91,
     "metadata": {},
     "output_type": "execute_result"
    },
    {
     "data": {
      "image/png": "[encoded data removed]",
      "text/plain": [
       "<matplotlib.figure.Figure at 0x11e97f3d0>"
      ]
     },
     "metadata": {},
     "output_type": "display_data"
    }
   ],
   "source": [
    "# Print a bar graph of the survival counts in each gender\n",
    "df = titanic_df.groupby(['Sex', 'Survived']).apply(len).reset_index()\n",
    "p = sns.barplot(data = df, x = 'Sex', y = 0, hue = 'Survived')\n",
    "p.set_xticklabels(['Male', 'Female'])\n",
    "p.set(xlabel = '', ylabel = 'Passenger Counts', title = 'Survival Counts')"
   ]
  },
  {
   "cell_type": "markdown",
   "metadata": {},
   "source": [
    "<font face=\"arial\"> In the plot above, we can see a difference between the male and female survival data by looking at a histogram. We see above that the Female data shows a higher percentage of females survived over Males. The data also shows that there were less male survivors in total over female survivors.</font>"
   ]
  },
  {
   "cell_type": "code",
   "execution_count": 92,
   "metadata": {
    "collapsed": false
   },
   "outputs": [
    {
     "data": {
      "text/plain": [
       "[<matplotlib.text.Text at 0x11c88e710>,\n",
       " <matplotlib.text.Text at 0x11e5ac650>,\n",
       " <matplotlib.text.Text at 0x11d944b90>]"
      ]
     },
     "execution_count": 92,
     "metadata": {},
     "output_type": "execute_result"
    },
    {
     "data": {
      "image/png": "[encoded data removed]",
      "text/plain": [
       "<matplotlib.figure.Figure at 0x11e8a1c10>"
      ]
     },
     "metadata": {},
     "output_type": "display_data"
    }
   ],
   "source": [
    "# Print a bar graph of the survival counts in each passenger class\n",
    "df = titanic_df.groupby(['Pclass', 'Survived']).apply(len).reset_index()\n",
    "p = sns.barplot(data = df, x = 'Pclass', y = 0, hue = 'Survived')\n",
    "p.set_xticklabels(['Class 1', 'Class 2', 'Class 3'])\n",
    "p.set_yticklabels = (['Died', 'Survived'])\n",
    "p.set(xlabel = '', ylabel = 'Passenger Counts', title = 'Survival Counts')"
   ]
  },
  {
   "cell_type": "markdown",
   "metadata": {},
   "source": [
    "<font face=\"arial\"> In the plot above, we can see a large difference in survivor amounts between the passenger classes. The majority of class 1 passengers survived the event, whereas the majority of passengers of class 3 did not survive.</font>"
   ]
  },
  {
   "cell_type": "code",
   "execution_count": 93,
   "metadata": {
    "collapsed": false
   },
   "outputs": [
    {
     "data": {
      "text/plain": [
       "[<matplotlib.text.Text at 0x11bca57d0>,\n",
       " <matplotlib.text.Text at 0x11b1a8950>,\n",
       " <matplotlib.text.Text at 0x11b131190>]"
      ]
     },
     "execution_count": 93,
     "metadata": {},
     "output_type": "execute_result"
    },
    {
     "data": {
      "image/png": "[encoded data removed]",
      "text/plain": [
       "<matplotlib.figure.Figure at 0x11bc7bd10>"
      ]
     },
     "metadata": {},
     "output_type": "display_data"
    }
   ],
   "source": [
    "# Print a plot of the combination of Passenger Class, Sex, and Survival outcome\n",
    "p = sns.violinplot(data = titanic_df, x = 'Pclass', y = 'Survived', split = True, hue=\"Sex\")\n",
    "p.set(title = 'Survival Plot', xlabel = 'Passenger Class', yticklabels = ['','Died', '', 'Survived'])\n",
    "p.set_xticklabels(['Class 1', 'Class 2', 'Class 3'])"
   ]
  },
  {
   "cell_type": "markdown",
   "metadata": {},
   "source": [
    "<font face=\"arial\"> To analyze the data further, I will use a non-parametric test called the Chi-Squared test. The survival outcome is categorical data (survived / did not survive) and therefore requires a non-parametric test to prove the difference in frequency of outcome is statistically significant.</font>"
   ]
  },
  {
   "cell_type": "markdown",
   "metadata": {},
   "source": [
    "<font size=\"4\" color=\"Blue\" face=\"arial\"><b> Question 1: Chi-Squared Test ( X^2 ) for Goodness of Fit </b></font>"
   ]
  },
  {
   "cell_type": "markdown",
   "metadata": {},
   "source": [
    "<font face=\"arial\">First I will address Quesion #1:<br>\n",
    "Among the passengers, was either gender more likely to survive the Titanic event?<br><br>\n",
    "The Null Hypothesis (H0):<br>\n",
    "H0 : The gender of the passenger did not have an affect on the survival rate of the passenger.<br><br>\n",
    "The Chi-Squared test for Goodness of Fit compares an observed frequency to the expected frequency. The expected frequency in this case is calculated using the survival data on the entire passenger group, and will serve as the null hypothesis. The observed frequency is the survival data on the women passengers and will be compared against the expected rate.</font>"
   ]
  },
  {
   "cell_type": "code",
   "execution_count": 369,
   "metadata": {
    "collapsed": false
   },
   "outputs": [
    {
     "name": "stdout",
     "output_type": "stream",
     "text": [
      "Sex     Survived\n",
      "female  1           233\n",
      "        0            81\n",
      "male    0           468\n",
      "        1           109\n",
      "dtype: int64\n"
     ]
    }
   ],
   "source": [
    "# Gender Survival Data:\n",
    "print titanic_df.groupby('Sex')[ 'Survived' ].value_counts()"
   ]
  },
  {
   "cell_type": "code",
   "execution_count": 370,
   "metadata": {
    "collapsed": false
   },
   "outputs": [
    {
     "data": {
      "text/html": [
       "<div>\n",
       "<table border=\"1\" class=\"dataframe\">\n",
       "  <thead>\n",
       "    <tr style=\"text-align: right;\">\n",
       "      <th></th>\n",
       "      <th>Did Not Survive</th>\n",
       "      <th>Survived</th>\n",
       "    </tr>\n",
       "  </thead>\n",
       "  <tbody>\n",
       "    <tr>\n",
       "      <th>Expected</th>\n",
       "      <td>193</td>\n",
       "      <td>121</td>\n",
       "    </tr>\n",
       "    <tr>\n",
       "      <th>Observed</th>\n",
       "      <td>81</td>\n",
       "      <td>233</td>\n",
       "    </tr>\n",
       "  </tbody>\n",
       "</table>\n",
       "</div>"
      ],
      "text/plain": [
       "          Did Not Survive  Survived\n",
       "Expected              193       121\n",
       "Observed               81       233"
      ]
     },
     "execution_count": 370,
     "metadata": {},
     "output_type": "execute_result"
    }
   ],
   "source": [
    "# Create some variables to be used to calculate the Chi-Squared statistic\n",
    "womenPassengerCount = float( 233 + 81 )\n",
    "womenSurvivorCount  = float( 233 )\n",
    "menSurvivorCount    = float( 109 )\n",
    "totalSurvivorCount  = float( womenSurvivorCount + menSurvivorCount )\n",
    "totalPassengerCount = float( titanic_df.groupby('Survived')['PassengerId'].count().sum() )\n",
    "survivalRateAll     = float( totalSurvivorCount / totalPassengerCount )\n",
    "\n",
    "# Calculate the expected amount of women survivors based on the total survivor rate\n",
    "expectedWomenSurvivors    = round( womenPassengerCount * survivalRateAll )\n",
    "expectedWomenNotSurvivors = round( womenPassengerCount * (1-survivalRateAll) )\n",
    "\n",
    "# Create a dataframe to show the observed and expected frequencies\n",
    "frequencies_df = pd.DataFrame( \n",
    "    {'Survived'        : pd.Series (data  = [expectedWomenSurvivors   , 233       ], \n",
    "                                    index = ['Expected'               , 'Observed'] ),\n",
    "     'Did Not Survive' : pd.Series (data  = [expectedWomenNotSurvivors, 81        ], \n",
    "                                    index = ['Expected'               , 'Observed'] )\n",
    "    }\n",
    ")\n",
    "\n",
    "# Dataframe containing the expected and observed frequencies of women survivor data\n",
    "frequencies_df"
   ]
  },
  {
   "cell_type": "markdown",
   "metadata": {},
   "source": [
    "<font face=\"arial\">Calculate the Chi-Squared test statistic<br>\n",
    "Χ^2 = Σ [ (Fo - Fe)^2 / Fe ]</font>"
   ]
  },
  {
   "cell_type": "code",
   "execution_count": 360,
   "metadata": {
    "collapsed": false
   },
   "outputs": [
    {
     "name": "stdout",
     "output_type": "stream",
     "text": [
      "ChiSquared = 168\n"
     ]
    }
   ],
   "source": [
    "# Function to calculate the chi-squared statistic, given a series\n",
    "def calc_chiSquared( frequencies_s ):\n",
    "    return math.pow( frequencies_s['Observed'] - frequencies_s['Expected'], 2 ) / frequencies_s['Expected']\n",
    "\n",
    "# Calculate the chi-squared test statistic\n",
    "# Use the built-in apply() function which applies a function to each column\n",
    "chiSquared_s = frequencies_df.apply( calc_chiSquared )\n",
    "chiSquared_1 = chiSquared_s.sum()\n",
    "\n",
    "print \"ChiSquared = %d\" % (chiSquared_1)"
   ]
  },
  {
   "cell_type": "markdown",
   "metadata": {},
   "source": [
    "<i>Calculating the Chi-Squared Test Statistic for the survival rate on female passengers, I have found that<br>\n",
    "<b> Χ^2 = 168 </b><br><br>\n",
    "Next we must calculate the critical value to compare our test statistic against. We have two categories in our test, so we have 1 degree of freedom<br>\n",
    "<b> DF = 1 </b><br><br>\n",
    "We use the test statistic and degree of freedom value to plug into GraphPad QuickCalcs and get a one-tailed p-value:<br><b>P value is less than 0.0001</b><br>\n",
    "By conventional criteria, this difference is considered to be extremely statistically significant."
   ]
  },
  {
   "cell_type": "markdown",
   "metadata": {},
   "source": [
    "<font size=\"4\" color=\"Blue\" face=\"arial\"><b> Question 2: Chi-Squared Test ( X^2 ) for Independence</b></font>"
   ]
  },
  {
   "cell_type": "markdown",
   "metadata": {},
   "source": [
    "<font face=\"arial\">Next I will analyze Quesion #2 using the same process as Question#1:<br>\n",
    "How did the passenger class affect the survival rate?<br><br>\n",
    "The Null Hypothesis (H0):<br>\n",
    "H0 : All passenger classes had an equal survival rate<br><br></font>"
   ]
  },
  {
   "cell_type": "code",
   "execution_count": 371,
   "metadata": {
    "collapsed": false
   },
   "outputs": [
    {
     "name": "stdout",
     "output_type": "stream",
     "text": [
      "Pclass  Survived\n",
      "1       1           136\n",
      "        0            80\n",
      "2       0            97\n",
      "        1            87\n",
      "3       0           372\n",
      "        1           119\n",
      "dtype: int64\n"
     ]
    }
   ],
   "source": [
    "# Gender Survival Data:\n",
    "print titanic_df.groupby('Pclass')[ 'Survived' ].value_counts()"
   ]
  },
  {
   "cell_type": "code",
   "execution_count": 372,
   "metadata": {
    "collapsed": false
   },
   "outputs": [
    {
     "data": {
      "text/html": [
       "<div>\n",
       "<table border=\"1\" class=\"dataframe\">\n",
       "  <thead>\n",
       "    <tr style=\"text-align: right;\">\n",
       "      <th>Observed</th>\n",
       "      <th>Class 1</th>\n",
       "      <th>Class 2</th>\n",
       "      <th>Class 3</th>\n",
       "    </tr>\n",
       "  </thead>\n",
       "  <tbody>\n",
       "    <tr>\n",
       "      <th>Survived</th>\n",
       "      <td>136</td>\n",
       "      <td>87</td>\n",
       "      <td>119</td>\n",
       "    </tr>\n",
       "    <tr>\n",
       "      <th>Did Not Survive</th>\n",
       "      <td>80</td>\n",
       "      <td>97</td>\n",
       "      <td>372</td>\n",
       "    </tr>\n",
       "  </tbody>\n",
       "</table>\n",
       "</div>"
      ],
      "text/plain": [
       "Observed         Class 1  Class 2  Class 3\n",
       "Survived             136       87      119\n",
       "Did Not Survive       80       97      372"
      ]
     },
     "execution_count": 372,
     "metadata": {},
     "output_type": "execute_result"
    }
   ],
   "source": [
    "# Create some variables to be used to calculate the Chi-Squared Statistic\n",
    "pclass1PassengerCount = float( 136 +  80 )\n",
    "pclass2PassengerCount = float(  97 +  87 )\n",
    "pclass3PassengerCount = float( 372 + 119 )\n",
    "\n",
    "pclass1SurvivorCount  = float( 136 )\n",
    "pclass2SurvivorCount  = float(  87 )\n",
    "pclass3SurvivorCount  = float( 119 )\n",
    "\n",
    "totalSurvivorCount  = float( pclass1SurvivorCount + pclass2SurvivorCount + pclass3SurvivorCount )\n",
    "totalPassengerCount = float( titanic_df.groupby('Survived')['PassengerId'].count().sum() )\n",
    "survivalRateAll     = float( totalSurvivorCount / totalPassengerCount )\n",
    "\n",
    "# Create a dataframe to show the observed and expected frequencies\n",
    "observedFrequencies_df = pd.DataFrame( \n",
    "    {'Class 1' : pd.Series (data  = [ pclass1SurvivorCount, (pclass1PassengerCount-pclass1SurvivorCount) ], \n",
    "                            index = ['Survived'           , 'Did Not Survive'] ),\n",
    "     'Class 2' : pd.Series (data  = [ pclass2SurvivorCount, (pclass2PassengerCount-pclass2SurvivorCount) ], \n",
    "                            index = ['Survived'           , 'Did Not Survive'] ),\n",
    "     'Class 3' : pd.Series (data  = [ pclass3SurvivorCount, (pclass3PassengerCount-pclass3SurvivorCount) ], \n",
    "                            index = ['Survived'           , 'Did Not Survive'] )\n",
    "    }\n",
    ")\n",
    "\n",
    "# Set the top left corner text description\n",
    "observedFrequencies_df.columns.name = \"Observed\"\n",
    "\n",
    "# Dataframe containing the expected and observed frequencies of women survivor data\n",
    "observedFrequencies_df"
   ]
  },
  {
   "cell_type": "code",
   "execution_count": 373,
   "metadata": {
    "collapsed": false
   },
   "outputs": [
    {
     "data": {
      "text/html": [
       "<div>\n",
       "<table border=\"1\" class=\"dataframe\">\n",
       "  <thead>\n",
       "    <tr style=\"text-align: right;\">\n",
       "      <th>Expected</th>\n",
       "      <th>Class 1</th>\n",
       "      <th>Class 2</th>\n",
       "      <th>Class 3</th>\n",
       "    </tr>\n",
       "  </thead>\n",
       "  <tbody>\n",
       "    <tr>\n",
       "      <th>Survived</th>\n",
       "      <td>82.909091</td>\n",
       "      <td>70.626263</td>\n",
       "      <td>188.464646</td>\n",
       "    </tr>\n",
       "    <tr>\n",
       "      <th>Did Not Survive</th>\n",
       "      <td>133.090909</td>\n",
       "      <td>113.373737</td>\n",
       "      <td>302.535354</td>\n",
       "    </tr>\n",
       "  </tbody>\n",
       "</table>\n",
       "</div>"
      ],
      "text/plain": [
       "Expected            Class 1     Class 2     Class 3\n",
       "Survived          82.909091   70.626263  188.464646\n",
       "Did Not Survive  133.090909  113.373737  302.535354"
      ]
     },
     "execution_count": 373,
     "metadata": {},
     "output_type": "execute_result"
    }
   ],
   "source": [
    "# Create a dataframe to show the expected frequencies\n",
    "rowTotal    = expectedFrequencies_df.sum(axis=1)\n",
    "columnTotal = expectedFrequencies_df.sum()\n",
    "grandTotal  = expectedFrequencies_df.sum().sum()\n",
    "\n",
    "class1ExpectedSurv = (rowTotal['Survived'] * columnTotal['Class 1']) / grandTotal\n",
    "class2ExpectedSurv = (rowTotal['Survived'] * columnTotal['Class 2']) / grandTotal\n",
    "class3ExpectedSurv = (rowTotal['Survived'] * columnTotal['Class 3']) / grandTotal\n",
    "\n",
    "class1ExpectedNot = (rowTotal['Did Not Survive'] * columnTotal['Class 1']) / grandTotal\n",
    "class2ExpectedNot = (rowTotal['Did Not Survive'] * columnTotal['Class 2']) / grandTotal\n",
    "class3ExpectedNot = (rowTotal['Did Not Survive'] * columnTotal['Class 3']) / grandTotal\n",
    "\n",
    "expectedFrequencies_df = pd.DataFrame( \n",
    "    {'Class 1' : pd.Series (data  = [class1ExpectedSurv, class1ExpectedNot], \n",
    "                            index = ['Survived'        , 'Did Not Survive'] ),\n",
    "     'Class 2' : pd.Series (data  = [class2ExpectedSurv, class2ExpectedNot], \n",
    "                            index = ['Survived'        , 'Did Not Survive'] ),\n",
    "     'Class 3' : pd.Series (data  = [class3ExpectedSurv, class3ExpectedNot], \n",
    "                            index = ['Survived'        , 'Did Not Survive'] )\n",
    "    }\n",
    ")\n",
    "\n",
    "# Set the top left corner text description\n",
    "expectedFrequencies_df.columns.name = \"Expected\"\n",
    "\n",
    "# Dataframe containing the expected and observed frequencies of women survivor data\n",
    "expectedFrequencies_df"
   ]
  },
  {
   "cell_type": "markdown",
   "metadata": {},
   "source": [
    "<font face=\"arial\">Calculate the Chi-Squared test statistic<br>\n",
    "Χ^2 = Σ [ (Fo - Fe)^2 / Fe ]</font>"
   ]
  },
  {
   "cell_type": "code",
   "execution_count": 374,
   "metadata": {
    "collapsed": false
   },
   "outputs": [
    {
     "name": "stdout",
     "output_type": "stream",
     "text": [
      "ChiSquared = 102\n"
     ]
    }
   ],
   "source": [
    "# Calculate the chi-squared test statistic\n",
    "chiSquared_df = (observedFrequencies_df - expectedFrequencies_df) * (observedFrequencies_df - expectedFrequencies_df)\n",
    "chiSquared_df = chiSquared_df / expectedFrequencies_df\n",
    "chiSquared_2  = chiSquared_df.sum().sum()\n",
    "\n",
    "print \"ChiSquared = %d\" % (chiSquared_2)"
   ]
  },
  {
   "cell_type": "markdown",
   "metadata": {},
   "source": [
    "<i>Calculating the Chi-Squared Test Statistic for the survival rate on female passengers, I have found that<br>\n",
    "<b> Χ^2 = 102 </b><br><br>\n",
    "Next we must calculate the critical value to compare our test statistic against. We have three categories in our test, so we have 2 degree of freedom<br>\n",
    "<b> DF = 2 </b><br><br>\n",
    "We use the test statistic and degree of freedom value to plug into GraphPad QuickCalcs and get a one-tailed p-value:<br><b>P value is less than 0.0001</b><br>\n",
    "By conventional criteria, this difference is considered to be extremely statistically significant."
   ]
  },
  {
   "cell_type": "markdown",
   "metadata": {},
   "source": [
    "<font face=\"arial\">In this second test, we have a 2 x 3 contigency table, so I'll calculate Cramer's V to measure the strength between the two variables ( passenger class and survival outcome ).<br>\n",
    "V = SQRT( Χ^2 / (n (k - 1)) )</font>"
   ]
  },
  {
   "cell_type": "code",
   "execution_count": 375,
   "metadata": {
    "collapsed": false
   },
   "outputs": [
    {
     "name": "stdout",
     "output_type": "stream",
     "text": [
      "0.339817388005\n"
     ]
    }
   ],
   "source": [
    "# Smaller of the two ( rows and columns )\n",
    "k = 2\n",
    "\n",
    "# number of passengers\n",
    "n = 891\n",
    "\n",
    "# Calculate Cramer's V\n",
    "V = math.sqrt( chiSquared_2 / ( n * (k-1) ))\n",
    "\n",
    "print V"
   ]
  },
  {
   "cell_type": "markdown",
   "metadata": {},
   "source": [
    "<font face=\"arial\"> Cohen's guidelines for effect size are the following:\n",
    "\n",
    "<pre>\n",
    "df*\tsmall\tmedium\tlarge\n",
    "1\t  0.10\t 0.30      0.50\n",
    "2\t  0.07\t 0.21      0.35\n",
    "3\t  0.06\t 0.17      0.29\n",
    "</pre>\n",
    "\n",
    "Since V=0.34 and DF=2, our effect size is relatively strong.</font>"
   ]
  },
  {
   "cell_type": "markdown",
   "metadata": {},
   "source": [
    "<font size=\"4\" color=\"Blue\" face=\"arial\"><b> Conclusions </b></font>"
   ]
  },
  {
   "cell_type": "markdown",
   "metadata": {
    "collapsed": true
   },
   "source": [
    "<font face=\"arial\">\n",
    "Question 1: Among the passengers, was either gender more likely to survive the Titanic event?<br>\n",
    "I performed a Chi-Squared test to test the null hypothesis that both genders had equal survival rates. The results were extremely statistically significant. With a resulting P value less than 0.0001, I am able to reject the null hypothesis and conclude that women aboard the Titanic in fact had a larger survival rate over men.<br><br>\n",
    "Question 2: How did the passenger class affect the survival rate?<br>\n",
    "I performed another Chi-Squared test to test the null hypothesis that all passenger classes had an equal survival rate. The results for this test were also extremely statistically significant. With a resulting P value less than 0.0001, I am able to reject the null hypothesis and conclude that passenger class did affect the survival rate of passengers. Passenger Class 1 had the highest survival rate, and Passenger Class 3 had the lowest survival rate. Since the degrees of freedom was larger than 1, I also calculated Cramer's V to measure effect size. The result showed the effect size is relatively strong according to Cohen's guidelines. \n",
    "</font>"
   ]
  },
  {
   "cell_type": "markdown",
   "metadata": {},
   "source": [
    "<font size=\"4\" color=\"Blue\" face=\"arial\"><b> Limitations </b></font>"
   ]
  },
  {
   "cell_type": "markdown",
   "metadata": {},
   "source": [
    "<font face=\"arial\">\n",
    "There are some limitations to the analysis I just provided. The data collected is a limited set of passenger data. There are 891 passenger data points in this dataset, however it has been reported that the Titanic had approximately 2,200 passengers aboard. We could also see that there were some missing values in the dataset provided. The dataset is assumed to be accurate, however there could be an issue with the validity of the data as well.\n",
    "</font>"
   ]
  }
 ],
 "metadata": {
  "kernelspec": {
   "display_name": "Python 2",
   "language": "python",
   "name": "python2"
  },
  "language_info": {
   "codemirror_mode": {
    "name": "ipython",
    "version": 2
   },
   "file_extension": ".py",
   "mimetype": "text/x-python",
   "name": "python",
   "nbconvert_exporter": "python",
   "pygments_lexer": "ipython2",
   "version": "2.7.11"
  }
 },
 "nbformat": 4,
 "nbformat_minor": 0
}
